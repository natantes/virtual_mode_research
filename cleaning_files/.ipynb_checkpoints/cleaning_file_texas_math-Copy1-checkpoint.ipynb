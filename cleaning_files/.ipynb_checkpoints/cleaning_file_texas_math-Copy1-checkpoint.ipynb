{
 "cells": [
  {
   "cell_type": "code",
   "execution_count": 1,
   "metadata": {},
   "outputs": [],
   "source": [
    "import pandas as pd"
   ]
  },
  {
   "cell_type": "code",
   "execution_count": 2,
   "metadata": {},
   "outputs": [],
   "source": [
    "def dat_to_csv_converter(dat_file_path):\n",
    "    # Step 1: Read the .dat file using pandas\n",
    "    # Assume .dat file is comma seperated\n",
    "    try:\n",
    "        data = pd.read_csv(dat_file_path, delimiter=',')\n",
    "        csv_file_path = dat_file_path[:-4] + \".csv\"\n",
    "        # Step 3: Write the data to a .csv file\n",
    "        data.to_csv(csv_file_path, index=False)  # Set index=False to omit row indices in the CSV\n",
    "        return csv_file_path\n",
    "    except Exception as e:\n",
    "        print(e)\n",
    "\n",
    "base_file_path = '../raw_data/'\n",
    "\n",
    "final_dataframes = []"
   ]
  },
  {
   "cell_type": "code",
   "execution_count": 3,
   "metadata": {},
   "outputs": [],
   "source": [
    "final_cols = [\n",
    " 'schoolcode',\n",
    " 'year',\n",
    " 'charter',\n",
    " 'mathpass',\n",
    " 'schoolmode',\n",
    " 'virtualper',\n",
    " 'hybridper',\n",
    " 'totaltested',\n",
    " 'lowincome',\n",
    " 'white',\n",
    " 'black',\n",
    " 'hispanic',\n",
    " 'asian',\n",
    "]\n",
    "\n",
    "main_dataframe_cols = [\n",
    " 'schoolcode',\n",
    " 'year',\n",
    " 'mathpass',\n",
    " 'totaltested',\n",
    " 'lowincome',\n",
    " 'white',\n",
    " 'black',\n",
    " 'hispanic',\n",
    " 'asian',\n",
    "]\n",
    "\n",
    "def final_data_generator(csv_file_path, year):\n",
    "    raw_dataframe = pd.read_csv(csv_file_path)\n",
    "    working_dataframe = raw_dataframe.copy()\n",
    "\n",
    "    working_dataframe.columns = working_dataframe.columns.str.lower()\n",
    "    working_dataframe['year'] = year\n",
    "    working_dataframe['schoolcode'] = working_dataframe['campus']\n",
    "    working_dataframe['district'] = working_dataframe['district']\n",
    "    working_dataframe['totaltested'] = working_dataframe['a1_all_d'] \n",
    "    working_dataframe['asian'] = working_dataframe['a1_etha_d']\n",
    "    working_dataframe['black'] = working_dataframe['a1_ethb_d']\n",
    "    working_dataframe['white'] = working_dataframe['a1_ethw_d']\n",
    "    working_dataframe['hispanic'] = working_dataframe['a1_ethh_d']\n",
    "    working_dataframe['lowincome'] = working_dataframe['a1_eco2_d'] + working_dataframe['a1_eco1_d']\n",
    "    working_dataframe['mathpass'] = working_dataframe['a1_all_meetsgl_nm'] if 'a1_all_meetsgl_nm' in working_dataframe else working_dataframe [\"a1_all_satis_rec_nm\"]  \n",
    "    \n",
    "    working_dataframe['asian'] /= working_dataframe['totaltested']\n",
    "    working_dataframe['black'] /= working_dataframe['totaltested']\n",
    "    working_dataframe['white'] /= working_dataframe['totaltested']\n",
    "    working_dataframe['hispanic'] /= working_dataframe['totaltested']\n",
    "    working_dataframe['mathpass'] /= working_dataframe['totaltested']\n",
    "    working_dataframe['lowincome'] /= working_dataframe['totaltested']\n",
    "\n",
    "    final_dataframe = working_dataframe\n",
    "\n",
    "    return final_dataframe"
   ]
  },
  {
   "cell_type": "code",
   "execution_count": 4,
   "metadata": {},
   "outputs": [
    {
     "data": {
      "text/plain": [
       "(24255, 9)"
      ]
     },
     "execution_count": 4,
     "metadata": {},
     "output_type": "execute_result"
    }
   ],
   "source": [
    "# generate csv data from dat files\n",
    "for year in range(2015, 2023):\n",
    "    if year == 2020: continue\n",
    "    current_file_path = base_file_path + \"texas_math_\" + str(year) + \".dat\"\n",
    "    final_csv_path = dat_to_csv_converter(current_file_path)\n",
    "    final_dataframes.append(final_data_generator(final_csv_path, year))\n",
    "\n",
    "final_dataframe = pd.concat(final_dataframes)\n",
    "final_dataframe = final_dataframe[main_dataframe_cols]\n",
    "\n",
    "final_dataframe.shape"
   ]
  },
  {
   "cell_type": "code",
   "execution_count": null,
   "metadata": {},
   "outputs": [],
   "source": [
    "# Find unique years in the DataFrame\n",
    "unique_years = final_dataframe['year'].unique()\n",
    "\n",
    "# Function to filter schools with complete data across all years\n",
    "def filter_complete_data(group):\n",
    "    group_years = group['year'].unique()\n",
    "    \n",
    "    # Check that the school has an entry for each year\n",
    "    if set(group_years) != set(unique_years):\n",
    "        return False\n",
    "    \n",
    "    # Check that there are no NaN values\n",
    "    return not group.isna().any().any()\n",
    "\n",
    "# Group by 'SchoolCode' and filter\n",
    "final_dataframe = final_dataframe.groupby('schoolcode').filter(filter_complete_data)\n",
    "\n",
    "final_dataframe.shape"
   ]
  },
  {
   "cell_type": "code",
   "execution_count": null,
   "metadata": {
    "scrolled": true
   },
   "outputs": [],
   "source": [
    "final_dataframe.isna().sum()"
   ]
  },
  {
   "cell_type": "code",
   "execution_count": null,
   "metadata": {},
   "outputs": [],
   "source": [
    "final_dataframe.shape"
   ]
  },
  {
   "cell_type": "markdown",
   "metadata": {},
   "source": [
    "# Import Virtual Data"
   ]
  },
  {
   "cell_type": "code",
   "execution_count": null,
   "metadata": {},
   "outputs": [],
   "source": [
    "virtual = pd.read_csv(\"../raw_data/Texas_Schools_LearningModelData_Final.csv\", thousands=',')\n",
    "virtual['Charter'] = virtual['Charter'].replace({'Yes': 1, 'No': 0})"
   ]
  },
  {
   "cell_type": "code",
   "execution_count": null,
   "metadata": {},
   "outputs": [],
   "source": [
    "virtual = virtual[virtual['TimePeriodStart'].str.endswith(('21', '22'))]\n",
    "virtual.head()"
   ]
  },
  {
   "cell_type": "code",
   "execution_count": null,
   "metadata": {},
   "outputs": [],
   "source": [
    "# Convert the date columns to datetime format.\n",
    "virtual['TimePeriodStart'] = pd.to_datetime(virtual['TimePeriodStart'])\n",
    "virtual['TimePeriodEnd'] = pd.to_datetime(virtual['TimePeriodEnd'])\n",
    "\n",
    "# Create a new column for year\n",
    "virtual['year'] = virtual['TimePeriodStart'].dt.year\n",
    "\n",
    "# Fill in any missing values in LearningModel with 'InPerson'\n",
    "virtual['LearningModel'] = virtual['LearningModel'].fillna('InPerson')"
   ]
  },
  {
   "cell_type": "code",
   "execution_count": null,
   "metadata": {},
   "outputs": [],
   "source": [
    "# Calculate the number of days for each row\n",
    "virtual['Days'] = (virtual['TimePeriodEnd'] - virtual['TimePeriodStart']).dt.days\n",
    "\n",
    "# Group by School, Year, LearningModel, and Charter and sum the number of days\n",
    "grouped = virtual.groupby(['StateAssignedSchoolID', 'year', 'LearningModel', 'Charter'])['Days'].sum().reset_index()\n",
    "\n",
    "# Pivot the data so we have separate columns for each learning model\n",
    "pivot = grouped.pivot_table(index=['StateAssignedSchoolID', 'year', 'Charter'], columns='LearningModel', values='Days', fill_value=0)"
   ]
  },
  {
   "cell_type": "code",
   "execution_count": null,
   "metadata": {},
   "outputs": [],
   "source": [
    "# Reset the index\n",
    "pivot.reset_index(inplace=True)\n",
    "\n",
    "# Calculate the total days in each year\n",
    "pivot['TotalDays'] = pivot['Virtual'] + pivot['InPerson']\n",
    "\n",
    "# Calculate the percentage of days that are virtual and hybrid for each year\n",
    "pivot['VirtualPercent'] = pivot['Virtual'] / pivot['TotalDays']\n",
    "\n",
    "# Calculate the score for each year\n",
    "pivot['Score'] = (pivot['Virtual'] / pivot['TotalDays'])\n",
    "\n",
    "pivot.columns.name = None"
   ]
  },
  {
   "cell_type": "code",
   "execution_count": null,
   "metadata": {},
   "outputs": [],
   "source": [
    "pivot = pivot.drop(columns=['InPerson', \"In-person\", 'Virtual', 'TotalDays'])\n",
    "\n",
    "pivot.fillna(0)"
   ]
  },
  {
   "cell_type": "markdown",
   "metadata": {},
   "source": [
    "# Begin Merge Process"
   ]
  },
  {
   "cell_type": "code",
   "execution_count": null,
   "metadata": {},
   "outputs": [],
   "source": [
    "# Find the intersection of unique SchoolCodes in both DataFrames\n",
    "common_schoolcodes = set(final_dataframe['schoolcode'].unique()).intersection(set(virtual['StateAssignedSchoolID'].unique()))\n",
    "\n",
    "# Filter both DataFrames to only include these SchoolCodes\n",
    "final_dataframe = final_dataframe[final_dataframe['schoolcode'].isin(common_schoolcodes)]\n",
    "virtual = virtual[virtual['StateAssignedSchoolID'].isin(common_schoolcodes)]\n",
    "\n"
   ]
  },
  {
   "cell_type": "code",
   "execution_count": null,
   "metadata": {},
   "outputs": [],
   "source": [
    "final_dataframe.shape"
   ]
  },
  {
   "cell_type": "code",
   "execution_count": null,
   "metadata": {},
   "outputs": [],
   "source": [
    "# Merge dropout_df with final_data\n",
    "export_dataframe = pd.merge(final_dataframe, pivot, left_on=['schoolcode', 'year'], right_on=['StateAssignedSchoolID', 'year'], how='left')\n"
   ]
  },
  {
   "cell_type": "code",
   "execution_count": null,
   "metadata": {},
   "outputs": [],
   "source": [
    "export_dataframe.sort_values(by=['schoolcode', 'year'], inplace=True)\n",
    "\n",
    "export_dataframe.head(10)\n"
   ]
  },
  {
   "cell_type": "code",
   "execution_count": null,
   "metadata": {},
   "outputs": [],
   "source": [
    "export_dataframe['Charter'] = export_dataframe.groupby('schoolcode')['Charter'].ffill().bfill()\n",
    "export_dataframe['StateAssignedSchoolID'] = export_dataframe.groupby('schoolcode')['StateAssignedSchoolID'].ffill().bfill()\n",
    "export_dataframe[\"virtualper\"] = export_dataframe[\"VirtualPercent\"]\n",
    "export_dataframe[\"schoolmode\"] = export_dataframe[\"Score\"]\n",
    "export_dataframe[\"charter\"] = export_dataframe[\"Charter\"]\n",
    "export_dataframe[\"hybridper\"] = 0\n",
    "\n",
    "export_dataframe = export_dataframe.fillna(0)\n",
    "export_dataframe = export_dataframe.reset_index(drop=True)\n",
    "export_dataframe = export_dataframe[final_cols]\n",
    "export_dataframe.head(10)"
   ]
  },
  {
   "cell_type": "code",
   "execution_count": null,
   "metadata": {},
   "outputs": [],
   "source": [
    "export_dataframe.to_csv(\"../final_data_components/mathpass_texas.csv\")"
   ]
  },
  {
   "cell_type": "code",
   "execution_count": null,
   "metadata": {},
   "outputs": [],
   "source": []
  }
 ],
 "metadata": {
  "kernelspec": {
   "display_name": "Python 3 (ipykernel)",
   "language": "python",
   "name": "python3"
  },
  "language_info": {
   "codemirror_mode": {
    "name": "ipython",
    "version": 3
   },
   "file_extension": ".py",
   "mimetype": "text/x-python",
   "name": "python",
   "nbconvert_exporter": "python",
   "pygments_lexer": "ipython3",
   "version": "3.9.13"
  }
 },
 "nbformat": 4,
 "nbformat_minor": 2
}
